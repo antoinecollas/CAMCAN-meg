{
 "cells": [
  {
   "cell_type": "code",
   "execution_count": null,
   "id": "15d75a34",
   "metadata": {},
   "outputs": [],
   "source": [
    "%matplotlib qt"
   ]
  },
  {
   "cell_type": "code",
   "execution_count": null,
   "id": "0015ec62",
   "metadata": {},
   "outputs": [],
   "source": [
    "# MEG files\n",
    "%ll camcan/BIDSsep/passive"
   ]
  },
  {
   "cell_type": "code",
   "execution_count": null,
   "id": "0ae8dc00",
   "metadata": {},
   "outputs": [],
   "source": [
    "# emptyroom files (no patient during the recording)\n",
    "%ll camcan/emptyroom/"
   ]
  },
  {
   "cell_type": "code",
   "execution_count": null,
   "id": "b5519ef0",
   "metadata": {},
   "outputs": [],
   "source": [
    "# transformation files (head-to-MRI)\n",
    "%ll camcan/trans/"
   ]
  },
  {
   "cell_type": "code",
   "execution_count": null,
   "id": "1eacfb02",
   "metadata": {},
   "outputs": [],
   "source": [
    "# MRI\n",
    "%ll camcan/freesurfer/"
   ]
  },
  {
   "cell_type": "code",
   "execution_count": null,
   "id": "6f76fdf2",
   "metadata": {},
   "outputs": [],
   "source": [
    "# CALIBRATION file\n",
    "%ll sss_cal.dat"
   ]
  },
  {
   "cell_type": "code",
   "execution_count": null,
   "id": "48f009e1",
   "metadata": {},
   "outputs": [],
   "source": [
    "# CROSSTALK file\n",
    "%ll ct_sparse.fif"
   ]
  },
  {
   "cell_type": "markdown",
   "id": "9d283715",
   "metadata": {},
   "source": [
    "# Load libraries and define paths"
   ]
  },
  {
   "cell_type": "code",
   "execution_count": null,
   "id": "4d902d37",
   "metadata": {},
   "outputs": [],
   "source": [
    "from autoreject import get_rejection_threshold\n",
    "import os\n",
    "import matplotlib.pyplot as plt\n",
    "import seaborn as sns\n",
    "import pandas as pd\n",
    "import numpy as np\n",
    "import mne\n",
    "from nilearn.plotting import plot_stat_map\n",
    "\n",
    "PLOT = True\n",
    "PLOT_3D = PLOT and False\n",
    "\n",
    "# CC720986: good visual ERP tomo\n",
    "SUBJECT = 'CC723395'  # CC220352, CC720986, CC721519\n",
    "# DATA_PATH = '/storage/store/data/camcan/BIDSsep'\n",
    "DATA_PATH = 'camcan/BIDSsep'\n",
    "EMPTYROOM_PATH = 'camcan/emptyroom'\n",
    "FREESURFER_PATH = 'camcan/freesurfer'\n",
    "TRANS_PATH = 'camcan/trans'\n",
    "CALIBRATION_PATH = 'sss_cal.dat'\n",
    "CROSSTALK_PATH = 'ct_sparse.fif'"
   ]
  },
  {
   "cell_type": "markdown",
   "id": "8d8e14e8",
   "metadata": {},
   "source": [
    "# Load raw data and empty room recordings"
   ]
  },
  {
   "cell_type": "code",
   "execution_count": null,
   "id": "16b79183",
   "metadata": {
    "scrolled": false
   },
   "outputs": [],
   "source": [
    "data_folder = os.path.join(DATA_PATH, 'passive', 'sub-' + SUBJECT, 'ses-passive')\n",
    "filename = 'sub-' + SUBJECT + '_ses-passive_task-passive_meg.fif'\n",
    "data_raw_file = os.path.join(data_folder, 'meg', filename)\n",
    "raw = mne.io.read_raw_fif(data_raw_file, preload=True, verbose=False)\n",
    "\n",
    "data_er_folder = os.path.join(EMPTYROOM_PATH, SUBJECT)\n",
    "filename = 'emptyroom_' + SUBJECT + '.fif'\n",
    "data_raw_er_file = os.path.join(data_er_folder, filename)\n",
    "raw_er = mne.io.read_raw_fif(data_raw_er_file, preload=True, verbose=False)"
   ]
  },
  {
   "cell_type": "markdown",
   "id": "f8d68eb6",
   "metadata": {},
   "source": [
    "# Plot raw data and psd"
   ]
  },
  {
   "cell_type": "code",
   "execution_count": null,
   "id": "6a8a5882",
   "metadata": {},
   "outputs": [],
   "source": [
    "if PLOT:\n",
    "    raw.copy().pick(['meg']).plot(duration=1, start=40, scalings=2*1e-10, n_channels=5)\n",
    "    plt.show()"
   ]
  },
  {
   "cell_type": "code",
   "execution_count": null,
   "id": "cd934c39",
   "metadata": {},
   "outputs": [],
   "source": [
    "if PLOT:\n",
    "    raw.compute_psd().plot()\n",
    "    plt.show()"
   ]
  },
  {
   "cell_type": "markdown",
   "id": "53d87f2a",
   "metadata": {},
   "source": [
    "# Find bad channels and maxfilter"
   ]
  },
  {
   "cell_type": "code",
   "execution_count": null,
   "id": "616ba991",
   "metadata": {
    "scrolled": false
   },
   "outputs": [],
   "source": [
    "raw_check = raw.copy()\n",
    "auto_noisy_chs, auto_flat_chs, auto_scores = mne.preprocessing.find_bad_channels_maxwell(\n",
    "    raw.copy(), cross_talk=CROSSTALK_PATH, calibration=CALIBRATION_PATH,\n",
    "    return_scores=True, verbose=False)\n",
    "raw.info['bads'] = auto_noisy_chs + auto_flat_chs\n",
    "raw_er.info['bads'] = raw.info['bads']"
   ]
  },
  {
   "cell_type": "code",
   "execution_count": null,
   "id": "2b3ee5b7",
   "metadata": {},
   "outputs": [],
   "source": [
    "raw.info['bads']"
   ]
  },
  {
   "cell_type": "code",
   "execution_count": null,
   "id": "40aa555f",
   "metadata": {
    "scrolled": false
   },
   "outputs": [],
   "source": [
    "raw_sss = mne.preprocessing.maxwell_filter(\n",
    "    raw.copy(), cross_talk=CROSSTALK_PATH, calibration=CALIBRATION_PATH, verbose=False)\n",
    "raw_er_sss = mne.preprocessing.maxwell_filter(\n",
    "    raw_er.copy(), cross_talk=CROSSTALK_PATH, calibration=CALIBRATION_PATH, coord_frame='meg', verbose=False)"
   ]
  },
  {
   "cell_type": "code",
   "execution_count": null,
   "id": "c7547221",
   "metadata": {
    "scrolled": false
   },
   "outputs": [],
   "source": [
    "# plt comparison\n",
    "if PLOT:\n",
    "    raw.copy().pick(['meg']).plot(duration=1.0, start=40.0, scalings=1e-9, n_channels=5)\n",
    "    raw_sss.copy().pick(['meg']).plot(duration=1.0, start=40.0, scalings=1e-9, n_channels=5)\n",
    "    raw.compute_psd().plot()\n",
    "    raw_sss.compute_psd().plot()\n",
    "    plt.show()"
   ]
  },
  {
   "cell_type": "markdown",
   "id": "1719c055",
   "metadata": {},
   "source": [
    "# Low pass filter"
   ]
  },
  {
   "cell_type": "code",
   "execution_count": null,
   "id": "25c49d57",
   "metadata": {
    "scrolled": false
   },
   "outputs": [],
   "source": [
    "raw_sss.filter(l_freq=1, h_freq=30, verbose=False)\n",
    "raw_er_sss.filter(l_freq=1, h_freq=30, verbose=False)\n",
    "# raw_sss.notch_filter(np.arange(50, 201, 50))\n",
    "raw_sss = raw_sss.crop(tmax=130)\n",
    "if PLOT:\n",
    "    raw_sss.copy().pick(['meg']).plot(duration=150.0, start=0.0, scalings=5*1e-11, n_channels=5)\n",
    "    raw_sss.compute_psd().plot()\n",
    "    plt.show()"
   ]
  },
  {
   "cell_type": "markdown",
   "id": "bf30b30d",
   "metadata": {},
   "source": [
    "# Load events, create epochs and evoked"
   ]
  },
  {
   "cell_type": "code",
   "execution_count": null,
   "id": "d9b62564",
   "metadata": {
    "scrolled": false
   },
   "outputs": [],
   "source": [
    "event_dict = {'auditory/300Hz': 6, 'auditory/600Hz': 7, 'auditory/1200Hz': 8, 'visual': 9}\n",
    "events = mne.find_events(raw_sss, verbose=False)\n",
    "if PLOT:\n",
    "    fig = mne.viz.plot_events(\n",
    "        events, event_id=event_dict, sfreq=raw_sss.info['sfreq'], first_samp=raw_sss.first_samp)\n",
    "    plt.show()"
   ]
  },
  {
   "cell_type": "code",
   "execution_count": null,
   "id": "2ced5cfb",
   "metadata": {},
   "outputs": [],
   "source": [
    "# create epochs\n",
    "TMIN, TMAX = -0.2, 0.5\n",
    "epochs = mne.Epochs(\n",
    "    raw_sss, events, tmin=TMIN, tmax=TMAX, baseline=(TMIN, 0.0), event_id=event_dict, preload=True, verbose=False)\n",
    "epochs.get_data().shape"
   ]
  },
  {
   "cell_type": "code",
   "execution_count": null,
   "id": "7d3c5a31",
   "metadata": {},
   "outputs": [],
   "source": [
    "epochs.plot()"
   ]
  },
  {
   "cell_type": "code",
   "execution_count": null,
   "id": "ed78ea59",
   "metadata": {},
   "outputs": [],
   "source": [
    "# reject some epochs\n",
    "reject = get_rejection_threshold(epochs, verbose=False)\n",
    "print(reject)\n",
    "epochs = mne.Epochs(\n",
    "    raw_sss, events, tmin=TMIN, tmax=TMAX, baseline=(TMIN, 0.0), reject=reject,\n",
    "    event_id=event_dict, preload=True, verbose=False)\n",
    "epochs.get_data().shape"
   ]
  },
  {
   "cell_type": "code",
   "execution_count": null,
   "id": "84ff68f1",
   "metadata": {
    "scrolled": false
   },
   "outputs": [],
   "source": [
    "evoked = dict()\n",
    "for event in event_dict:\n",
    "    evoked[event] = epochs[event].average()"
   ]
  },
  {
   "cell_type": "code",
   "execution_count": null,
   "id": "70e3267d",
   "metadata": {},
   "outputs": [],
   "source": [
    "EVENT = 'visual'\n",
    "# EVENT = 'auditory'\n",
    "if PLOT:\n",
    "    print(EVENT)\n",
    "    epochs[EVENT].average().plot()\n",
    "    plt.show()"
   ]
  },
  {
   "cell_type": "code",
   "execution_count": null,
   "id": "2e416481",
   "metadata": {
    "scrolled": true
   },
   "outputs": [],
   "source": [
    "all_times = np.linspace(0.1, 0.3, num=6)\n",
    "if PLOT:\n",
    "    evoked[EVENT].plot_topomap(all_times, ch_type='mag')\n",
    "    plt.show()"
   ]
  },
  {
   "cell_type": "markdown",
   "id": "63ebd7b0",
   "metadata": {},
   "source": [
    "# Compute noise covariance from baseline segments"
   ]
  },
  {
   "cell_type": "code",
   "execution_count": null,
   "id": "87fe7e3c",
   "metadata": {},
   "outputs": [],
   "source": [
    "noise_cov = mne.compute_covariance(epochs, tmax=0, method='auto', rank=None, verbose=False)\n",
    "if PLOT:\n",
    "    noise_cov.plot(raw_sss.info)\n",
    "    plt.show()"
   ]
  },
  {
   "cell_type": "code",
   "execution_count": null,
   "id": "bba5b58e",
   "metadata": {
    "scrolled": false
   },
   "outputs": [],
   "source": [
    "if PLOT:\n",
    "    print(EVENT)\n",
    "    evoked[EVENT].plot_white(noise_cov, time_unit='s', verbose=False)\n",
    "    plt.show()"
   ]
  },
  {
   "cell_type": "markdown",
   "id": "bfc40c74",
   "metadata": {},
   "source": [
    "# Compute noise covariance from empty room recordings"
   ]
  },
  {
   "cell_type": "code",
   "execution_count": null,
   "id": "6570642e",
   "metadata": {},
   "outputs": [],
   "source": [
    "if PLOT:\n",
    "    raw_er_sss.copy().pick(['meg']).plot(duration=150.0, start=0.0, scalings=5*1e-11, n_channels=5)\n",
    "    plt.show()"
   ]
  },
  {
   "cell_type": "code",
   "execution_count": null,
   "id": "f802f61c",
   "metadata": {
    "scrolled": false
   },
   "outputs": [],
   "source": [
    "noise_cov_er = mne.compute_raw_covariance(raw_er_sss, tmin=0, tmax=None, verbose=False)\n",
    "if PLOT:\n",
    "    print('Noise covariance matrix:')\n",
    "    noise_cov.plot(raw_er.info, show_svd=False)\n",
    "    print('Noise covariance matrix empty room:')\n",
    "    noise_cov_er.plot(raw_er_sss.info, show_svd=False)\n",
    "    plt.show()"
   ]
  },
  {
   "cell_type": "code",
   "execution_count": null,
   "id": "defca541",
   "metadata": {
    "scrolled": false
   },
   "outputs": [],
   "source": [
    "if PLOT:\n",
    "    print(EVENT)\n",
    "    evoked[EVENT].plot_white(noise_cov_er, time_unit='s', verbose=False)\n",
    "    plt.show()"
   ]
  },
  {
   "cell_type": "markdown",
   "id": "5ab2ee98",
   "metadata": {},
   "source": [
    "# Compute the dSPM inverse solution on the cortical surface "
   ]
  },
  {
   "cell_type": "markdown",
   "id": "74275ec8",
   "metadata": {},
   "source": [
    "## Plot the coregistration"
   ]
  },
  {
   "cell_type": "markdown",
   "id": "aaf3883d",
   "metadata": {},
   "source": [
    "The coregistration is the operation that allows to position the head and the sensors in a common coordinate system."
   ]
  },
  {
   "cell_type": "code",
   "execution_count": null,
   "id": "f802b338",
   "metadata": {},
   "outputs": [],
   "source": [
    "trans_file = os.path.join(TRANS_PATH, 'sub-' + SUBJECT + '-trans.fif')\n",
    "if PLOT_3D:\n",
    "    mne.viz.plot_alignment(\n",
    "        raw_sss.info, trans_file, subject=SUBJECT, dig=True,\n",
    "        meg=['helmet', 'sensors'], subjects_dir=FREESURFER_PATH, surfaces='head-dense', verbose=False)"
   ]
  },
  {
   "cell_type": "markdown",
   "id": "d03db37a",
   "metadata": {},
   "source": [
    "## Plot BEM and source space"
   ]
  },
  {
   "cell_type": "markdown",
   "id": "d4f27b02",
   "metadata": {},
   "source": [
    "bem = boundary element model\n",
    "\n",
    "The BEM surfaces are the triangulations of the interfaces between different tissues needed for forward computation. These surfaces are for example the inner skull surface, the outer skull surface and the outer skin surface, a.k.a. scalp surface."
   ]
  },
  {
   "cell_type": "code",
   "execution_count": null,
   "id": "26430cff",
   "metadata": {
    "scrolled": false
   },
   "outputs": [],
   "source": [
    "# src = mne.setup_source_space(SUBJECT, spacing='oct4', subjects_dir=FREESURFER_PATH, verbose=False)\n",
    "\n",
    "SPHERE = np.array([0, -0.005, 0, 0.085])\n",
    "surface_path = os.path.join(FREESURFER_PATH, SUBJECT, 'bem', 'inner_skull.surf')\n",
    "src = mne.setup_volume_source_space(\n",
    "    SUBJECT, surface=surface_path, subjects_dir=FREESURFER_PATH, sphere=SPHERE, verbose=False)"
   ]
  },
  {
   "cell_type": "code",
   "execution_count": null,
   "id": "d9805ebe",
   "metadata": {},
   "outputs": [],
   "source": [
    "if PLOT:\n",
    "    mne.viz.plot_bem(SUBJECT, subjects_dir=FREESURFER_PATH, src=src)\n",
    "    plt.show()"
   ]
  },
  {
   "cell_type": "markdown",
   "id": "acd28c73",
   "metadata": {},
   "source": [
    "## Plot sources in 3D"
   ]
  },
  {
   "cell_type": "code",
   "execution_count": null,
   "id": "77aee4c3",
   "metadata": {},
   "outputs": [],
   "source": [
    "PLOT_3D = True\n",
    "if PLOT_3D:\n",
    "    fig = mne.viz.plot_alignment(info=raw.info, trans=trans_file,\n",
    "        subject=SUBJECT, subjects_dir=FREESURFER_PATH, surfaces='white', coord_frame='mri', src=src)\n",
    "    mne.viz.set_3d_view(fig)"
   ]
  },
  {
   "cell_type": "markdown",
   "id": "3c87f89f",
   "metadata": {},
   "source": [
    "## Make bem model"
   ]
  },
  {
   "cell_type": "code",
   "execution_count": null,
   "id": "4abaad73",
   "metadata": {},
   "outputs": [],
   "source": [
    "# CONDUCTIVITY = (0.3, 0.006, 0.3)  # for three layers\n",
    "CONDUCTIVITY = (0.3,)  # for single layer\n",
    "model = mne.make_bem_model(SUBJECT, ico=4, conductivity=CONDUCTIVITY, subjects_dir=FREESURFER_PATH, verbose=False)\n",
    "bem = mne.make_bem_solution(model, verbose=False)"
   ]
  },
  {
   "cell_type": "code",
   "execution_count": null,
   "id": "4a9eacf4",
   "metadata": {},
   "outputs": [],
   "source": [
    "fwd = mne.make_forward_solution(data_raw_file, trans=trans_file, src=src, bem=bem, verbose=False)\n",
    "leadfield = fwd['sol']['data']\n",
    "print(\"Leadfield size : %d sensors x %d dipoles\" % leadfield.shape)"
   ]
  },
  {
   "cell_type": "code",
   "execution_count": null,
   "id": "074b23c7",
   "metadata": {},
   "outputs": [],
   "source": [
    "inverse_operator = mne.minimum_norm.make_inverse_operator(raw_sss.info, fwd, noise_cov, verbose=False)"
   ]
  },
  {
   "cell_type": "code",
   "execution_count": null,
   "id": "a19691fa",
   "metadata": {},
   "outputs": [],
   "source": [
    "METHOD = 'dSPM'\n",
    "print(EVENT)\n",
    "stc = mne.minimum_norm.apply_inverse(evoked[EVENT], inverse_operator, method=METHOD, verbose=False)\n",
    "if PLOT:\n",
    "    stc.plot(src=src, subjects_dir=FREESURFER_PATH)"
   ]
  },
  {
   "cell_type": "markdown",
   "id": "34d9ffbb",
   "metadata": {},
   "source": [
    "# Electroocoulogram"
   ]
  },
  {
   "cell_type": "code",
   "execution_count": null,
   "id": "0a7d05e0",
   "metadata": {},
   "outputs": [],
   "source": [
    "eog_evoked = mne.preprocessing.create_eog_epochs(raw_sss, verbose=False).average()\n",
    "eog_evoked.apply_baseline(baseline=(None, -0.2))  # subtract mean signal\n",
    "if PLOT:\n",
    "    eog_evoked.plot()\n",
    "    plt.show()"
   ]
  },
  {
   "cell_type": "markdown",
   "id": "455fd1c7",
   "metadata": {},
   "source": [
    "# Electrocardiogram"
   ]
  },
  {
   "cell_type": "code",
   "execution_count": null,
   "id": "f13a8a83",
   "metadata": {},
   "outputs": [],
   "source": [
    "ecg_evoked = mne.preprocessing.create_ecg_epochs(raw_sss, verbose=False).average()\n",
    "ecg_evoked.apply_baseline(baseline=(None, -0.2))\n",
    "ecg_evoked.plot()\n",
    "plt.show()"
   ]
  },
  {
   "cell_type": "markdown",
   "id": "efdec9f5",
   "metadata": {},
   "source": [
    "# ICA"
   ]
  },
  {
   "cell_type": "code",
   "execution_count": null,
   "id": "498d2442",
   "metadata": {
    "scrolled": true
   },
   "outputs": [],
   "source": [
    "ica = mne.preprocessing.ICA(n_components=0.999, method='picard', max_iter='auto', random_state=123)\n",
    "ica.fit(raw_sss)"
   ]
  },
  {
   "cell_type": "code",
   "execution_count": null,
   "id": "81f71d69",
   "metadata": {
    "scrolled": true
   },
   "outputs": [],
   "source": [
    "if PLOT:\n",
    "    ica.plot_components()\n",
    "    plt.show()"
   ]
  },
  {
   "cell_type": "code",
   "execution_count": null,
   "id": "b64e4237",
   "metadata": {
    "scrolled": false
   },
   "outputs": [],
   "source": [
    "BLINK_CHANNELS = [1]\n",
    "HEARTBEAT_CHANNELS = [7, 14]\n",
    "if PLOT:\n",
    "    ica.plot_sources(raw_sss, picks=BLINK_CHANNELS+HEARTBEAT_CHANNELS)\n",
    "    plt.show()"
   ]
  },
  {
   "cell_type": "code",
   "execution_count": null,
   "id": "61218b9e",
   "metadata": {
    "scrolled": false
   },
   "outputs": [],
   "source": [
    "if PLOT:\n",
    "    # blinks\n",
    "    ica.plot_overlay(raw_sss, exclude=BLINK_CHANNELS, picks='mag')\n",
    "    # heartbeats\n",
    "    ica.plot_overlay(raw_sss, exclude=HEARTBEAT_CHANNELS, picks='mag')\n",
    "    plt.show()"
   ]
  },
  {
   "cell_type": "code",
   "execution_count": null,
   "id": "ef13a640",
   "metadata": {},
   "outputs": [],
   "source": [
    "ica.exclude = BLINK_CHANNELS+HEARTBEAT_CHANNELS\n",
    "reconst_raw_sss = raw_sss.copy()\n",
    "ica.apply(reconst_raw_sss)"
   ]
  },
  {
   "cell_type": "code",
   "execution_count": null,
   "id": "7733d316",
   "metadata": {},
   "outputs": [],
   "source": [
    "epochs = mne.Epochs(\n",
    "    raw_sss, events, tmin=TMIN, tmax=TMAX, baseline=(TMIN, 0.0), reject=reject,\n",
    "    event_id=event_dict, preload=True, verbose=False)\n",
    "evoked = dict()\n",
    "for event in event_dict:\n",
    "    evoked[event] = epochs[event].average()\n",
    "if PLOT:\n",
    "    print(EVENT)\n",
    "    evoked[EVENT].plot()\n",
    "    plt.show()\n",
    "\n",
    "epochs = mne.Epochs(\n",
    "    reconst_raw_sss, events, tmin=TMIN, tmax=TMAX, baseline=(TMIN, 0.0), reject=reject,\n",
    "    event_id=event_dict, preload=True, verbose=False)\n",
    "evoked = dict()\n",
    "for event in event_dict:\n",
    "    evoked[event] = epochs[event].average()\n",
    "if PLOT:\n",
    "    print(EVENT)\n",
    "    evoked[EVENT].plot()\n",
    "    plt.show()\n",
    "all_times = np.linspace(0.1, 0.3, num=6)\n",
    "if PLOT:\n",
    "    evoked[EVENT].plot_topomap(all_times, ch_type='mag')\n",
    "    plt.show()"
   ]
  },
  {
   "cell_type": "code",
   "execution_count": null,
   "id": "762670cf",
   "metadata": {},
   "outputs": [],
   "source": []
  }
 ],
 "metadata": {
  "kernelspec": {
   "display_name": "Python 3 (ipykernel)",
   "language": "python",
   "name": "python3"
  },
  "language_info": {
   "codemirror_mode": {
    "name": "ipython",
    "version": 3
   },
   "file_extension": ".py",
   "mimetype": "text/x-python",
   "name": "python",
   "nbconvert_exporter": "python",
   "pygments_lexer": "ipython3",
   "version": "3.10.6"
  }
 },
 "nbformat": 4,
 "nbformat_minor": 5
}
